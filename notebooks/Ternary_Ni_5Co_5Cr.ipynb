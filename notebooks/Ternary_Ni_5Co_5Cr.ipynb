{
 "cells": [
  {
   "cell_type": "code",
   "execution_count": 3,
   "id": "a4e06f7d-716c-4e99-b95b-3d236232a3c7",
   "metadata": {
    "tags": []
   },
   "outputs": [],
   "source": [
    "import matplotlib.pyplot as plt\n",
    "import numpy as np\n",
    "import pandas as pd\n",
    "%matplotlib inline\n",
    "from matplotlib import rc, font_manager\n",
    "ticks_font = font_manager.FontProperties(family='serif', style='normal',\n",
    "                                         size=24, weight='normal', stretch='normal')"
   ]
  },
  {
   "cell_type": "code",
   "execution_count": 4,
   "id": "d3400825-9da6-4ef2-9e78-48691459d88e",
   "metadata": {
    "tags": []
   },
   "outputs": [],
   "source": [
    "%load_ext autoreload\n",
    "%autoreload 2\n",
    "import sys\n",
    "import os\n",
    "\n",
    "module_path = os.path.abspath(os.path.join('..'))\n",
    "if module_path not in sys.path:\n",
    "    sys.path.append(module_path+\"/models\")\n",
    "\n",
    "from ternary_w_interactions import ternary_seg_profile\n",
    "from scipy import constants"
   ]
  },
  {
   "cell_type": "code",
   "execution_count": 5,
   "id": "2ae2a206-904d-4548-b203-8db4f52bef2e",
   "metadata": {
    "tags": []
   },
   "outputs": [
    {
     "data": {
      "text/plain": [
       "\u001b[0;31mInit signature:\u001b[0m\n",
       "\u001b[0mternary_seg_profile\u001b[0m\u001b[0;34m(\u001b[0m\u001b[0;34m\u001b[0m\n",
       "\u001b[0;34m\u001b[0m    \u001b[0mD0_C\u001b[0m\u001b[0;34m,\u001b[0m\u001b[0;34m\u001b[0m\n",
       "\u001b[0;34m\u001b[0m    \u001b[0mQ_C\u001b[0m\u001b[0;34m,\u001b[0m\u001b[0;34m\u001b[0m\n",
       "\u001b[0;34m\u001b[0m    \u001b[0mE_seg_C\u001b[0m\u001b[0;34m,\u001b[0m\u001b[0;34m\u001b[0m\n",
       "\u001b[0;34m\u001b[0m    \u001b[0mD0_B\u001b[0m\u001b[0;34m,\u001b[0m\u001b[0;34m\u001b[0m\n",
       "\u001b[0;34m\u001b[0m    \u001b[0mQ_B\u001b[0m\u001b[0;34m,\u001b[0m\u001b[0;34m\u001b[0m\n",
       "\u001b[0;34m\u001b[0m    \u001b[0mE_seg_B\u001b[0m\u001b[0;34m,\u001b[0m\u001b[0;34m\u001b[0m\n",
       "\u001b[0;34m\u001b[0m    \u001b[0mc0_C\u001b[0m\u001b[0;34m,\u001b[0m\u001b[0;34m\u001b[0m\n",
       "\u001b[0;34m\u001b[0m    \u001b[0mc0_B\u001b[0m\u001b[0;34m,\u001b[0m\u001b[0;34m\u001b[0m\n",
       "\u001b[0;34m\u001b[0m    \u001b[0mL_AB\u001b[0m\u001b[0;34m,\u001b[0m\u001b[0;34m\u001b[0m\n",
       "\u001b[0;34m\u001b[0m    \u001b[0mL_AC\u001b[0m\u001b[0;34m,\u001b[0m\u001b[0;34m\u001b[0m\n",
       "\u001b[0;34m\u001b[0m    \u001b[0mL_ABC\u001b[0m\u001b[0;34m,\u001b[0m\u001b[0;34m\u001b[0m\n",
       "\u001b[0;34m\u001b[0m    \u001b[0mL_BC\u001b[0m\u001b[0;34m,\u001b[0m\u001b[0;34m\u001b[0m\n",
       "\u001b[0;34m\u001b[0m    \u001b[0mT\u001b[0m\u001b[0;34m,\u001b[0m\u001b[0;34m\u001b[0m\n",
       "\u001b[0;34m\u001b[0m    \u001b[0md\u001b[0m\u001b[0;34m,\u001b[0m\u001b[0;34m\u001b[0m\n",
       "\u001b[0;34m\u001b[0m    \u001b[0mnd\u001b[0m\u001b[0;34m,\u001b[0m\u001b[0;34m\u001b[0m\n",
       "\u001b[0;34m\u001b[0m    \u001b[0mdt\u001b[0m\u001b[0;34m,\u001b[0m\u001b[0;34m\u001b[0m\n",
       "\u001b[0;34m\u001b[0m    \u001b[0mnt\u001b[0m\u001b[0;34m,\u001b[0m\u001b[0;34m\u001b[0m\n",
       "\u001b[0;34m\u001b[0m\u001b[0;34m)\u001b[0m\u001b[0;34m\u001b[0m\u001b[0;34m\u001b[0m\u001b[0m\n",
       "\u001b[0;31mDocstring:\u001b[0m      <no docstring>\n",
       "\u001b[0;31mInit docstring:\u001b[0m\n",
       "A class to calculate the segregation profiles as a function of time for a ternary system. \n",
       "The ternary system is represented as A-B-C, where A is solvent, B is solute #1, and C is solute #2.\n",
       "\n",
       "...\n",
       "\n",
       "Attributes\n",
       "----------\n",
       "D0_B and D0_C: 1d array\n",
       "    diffusion coefficients of solute B and C, have the same length as the number of layers $nd$\n",
       "Q_B and Q_C : 1d array\n",
       "    diffusion energy barriers of solute B and C, have the same length as the number of layers $nd$\n",
       "E_seg_B and E_seg_C: 1d array\n",
       "    segregation energies of solute B and C, have the same length as the number of layers $nd$\n",
       "c0_C and c0_B: floats \n",
       "    initial solute concentrations between [0,1]\n",
       "L_AB,L_AC,L_ABC, and L_BC: floats\n",
       "    solute-solute interaction energies\n",
       "\n",
       "\n",
       "T: float\n",
       "    temperature\n",
       "d: float\n",
       "    inter-layer distance, unit in meter\n",
       "nd: int\n",
       "    total number of layers \n",
       "dt: float\n",
       "    time increment to simulate the segregation process, unit in second\n",
       "nt: int\n",
       "    number of time steps, nt*dt = total amount of time \n",
       "Methods\n",
       "-------\n",
       "diffusivity(D0,Q,T):\n",
       "    Calculate the diffusion coefficient given the diffusion data and temperature T.\n",
       "\n",
       "dX1_dt: \n",
       "    Calculate the concentration as a function of time. This is the main function to calculate the properties. \n",
       "\n",
       "tabulate_calc_res:\n",
       "    Start the calculation for dX1_dt and tabulate the results into a pandas.DataFrame\n",
       "\u001b[0;31mFile:\u001b[0m           ~/project/suzuki_kinetics/models/ternary_w_interactions.py\n",
       "\u001b[0;31mType:\u001b[0m           type\n",
       "\u001b[0;31mSubclasses:\u001b[0m     \n"
      ]
     },
     "metadata": {},
     "output_type": "display_data"
    }
   ],
   "source": [
    "# check the input materials properties\n",
    "ternary_seg_profile?\n"
   ]
  },
  {
   "cell_type": "code",
   "execution_count": null,
   "id": "98321557-a197-4e60-807b-5633c153f4a6",
   "metadata": {},
   "outputs": [],
   "source": []
  },
  {
   "cell_type": "code",
   "execution_count": 6,
   "id": "929c7d85-6227-47bc-a1ab-92d712f7c780",
   "metadata": {
    "tags": []
   },
   "outputs": [],
   "source": [
    "# Grid and time step parameters\n",
    "data_Ni = pd.read_json('../data/Ni_221_flip_E.json')\n",
    "# \n",
    "b = 2.5e-10 #m\n",
    "a = np.sqrt(2)*b\n",
    "d = a/np.sqrt(3)\n",
    "d = b\n",
    "nd = 100\n",
    "\n",
    "# segregation parameters\n",
    "T = 873 #K\n",
    "\n",
    "# C: Co\n",
    "\n",
    "c0_C = 0.05\n",
    "\n",
    "D0_C = 5e-6 #m^2/s\n",
    "Q_C = 241 #kJ/mol\n",
    "\n",
    "E_seg_list_C = np.zeros(nd)\n",
    "E_seg_list_C[0] = data_Ni['Co'][0]\n",
    "E_seg_list_C[1] = data_Ni['Co'][1]\n",
    "E_seg_list_C[2] = data_Ni['Co'][2]\n",
    "E_seg_list_C[3] = data_Ni['Co'][3]\n",
    "E_seg_list_C[4] = data_Ni['Co'][4]\n",
    "\n",
    "\n",
    "Q_list_C = np.random.normal(loc=Q_C,scale=5,size=nd)\n",
    "\n",
    "# B: Cr\n",
    "c0_B = 0.05\n",
    "\n",
    "D0_B = 5e-4 #m^2/s\n",
    "Q_B = 285 #kJ/mol\n",
    "\n",
    "E_seg_list_B = np.zeros(nd)\n",
    "E_seg_list_B[0] = data_Ni['Cr'][0]\n",
    "E_seg_list_B[1] = data_Ni['Cr'][1]\n",
    "E_seg_list_B[2] = data_Ni['Cr'][2]\n",
    "E_seg_list_B[3] = data_Ni['Cr'][3]\n",
    "E_seg_list_B[4] = data_Ni['Cr'][4]\n",
    "\n",
    "\n",
    "Q_list_B = np.random.normal(loc=Q_B,scale=5,size=nd)\n",
    "\n",
    "\n",
    "# time\n",
    "dt = 1  # time step size /s\n",
    "nt = 5000  # number of time steps\n"
   ]
  },
  {
   "cell_type": "code",
   "execution_count": 7,
   "id": "2ce43af0-2ee6-4d7f-8183-bd8688937d7c",
   "metadata": {
    "tags": []
   },
   "outputs": [],
   "source": [
    "# solute-solute interaction energies\n",
    "J2eV = 8.617333262145e-5/1.380649e-23\n",
    "NA = constants.Avogadro\n",
    "\n",
    "# data from https://doi.org/10.1016/j.calphad.2015.12.007\n",
    "# Cr in Ni # FCC\n",
    "L_AB = (+8030-12.8801*T) * J2eV /NA\n",
    "\n",
    "# Co in Ni # FCC\n",
    "L_AC = (-800+1.2629*T) * J2eV /NA\n",
    "\n",
    "# Co-Cr in Ni # FCC\n",
    "L_ABC = (-40710+13.5334*T) * J2eV /NA\n",
    "\n",
    "# Co-Cr\n",
    "L_BC = (+1500-9.592*T) * J2eV/NA\n"
   ]
  },
  {
   "cell_type": "code",
   "execution_count": null,
   "id": "c399c8e7-4527-4a7d-b749-c41fa9363025",
   "metadata": {
    "tags": []
   },
   "outputs": [],
   "source": []
  },
  {
   "cell_type": "code",
   "execution_count": 9,
   "id": "ee620382-90cd-410c-837c-8d7fb4c250a2",
   "metadata": {
    "tags": []
   },
   "outputs": [],
   "source": [
    "system = ternary_seg_profile(D0_C,Q_C, # 1d array, same length as nd\n",
    "           E_seg_list_C,# 1d array, same length as nd\n",
    "           D0_B,Q_B, # 1d array, same length as nd\n",
    "           E_seg_list_B,# 1d array, same length as nd\n",
    "           c0_C,c0_B,\n",
    "           L_AB,L_AC,L_ABC,L_BC,\n",
    "           T,\n",
    "           d,\n",
    "           nd, \n",
    "           dt,\n",
    "           nt)\n"
   ]
  },
  {
   "cell_type": "code",
   "execution_count": 10,
   "id": "8c23f598-b2a6-4eb8-9ddf-8d5a13cccba7",
   "metadata": {
    "tags": []
   },
   "outputs": [
    {
     "name": "stderr",
     "output_type": "stream",
     "text": [
      "/Users/Dongsheng/project/suzuki_kinetics/models/ternary_w_interactions.py:270: PerformanceWarning: DataFrame is highly fragmented.  This is usually the result of calling `frame.insert` many times, which has poor performance.  Consider joining all columns at once using pd.concat(axis=1) instead.  To get a de-fragmented frame, use `newframe = frame.copy()`\n",
      "  self.calc_data[f'x_B_layer_{i}'] = self.X_layers_B_vs_t.T[i]\n",
      "/Users/Dongsheng/project/suzuki_kinetics/models/ternary_w_interactions.py:273: PerformanceWarning: DataFrame is highly fragmented.  This is usually the result of calling `frame.insert` many times, which has poor performance.  Consider joining all columns at once using pd.concat(axis=1) instead.  To get a de-fragmented frame, use `newframe = frame.copy()`\n",
      "  self.calc_data[f'x_C_layer_{i}'] = self.X_layers_C_vs_t.T[i]\n"
     ]
    }
   ],
   "source": [
    "system.tabulate_calc_res()"
   ]
  },
  {
   "cell_type": "code",
   "execution_count": 11,
   "id": "b1ae88b7-1091-471b-b62a-c72e052fd85d",
   "metadata": {
    "tags": []
   },
   "outputs": [
    {
     "data": {
      "text/html": [
       "<div>\n",
       "<style scoped>\n",
       "    .dataframe tbody tr th:only-of-type {\n",
       "        vertical-align: middle;\n",
       "    }\n",
       "\n",
       "    .dataframe tbody tr th {\n",
       "        vertical-align: top;\n",
       "    }\n",
       "\n",
       "    .dataframe thead th {\n",
       "        text-align: right;\n",
       "    }\n",
       "</style>\n",
       "<table border=\"1\" class=\"dataframe\">\n",
       "  <thead>\n",
       "    <tr style=\"text-align: right;\">\n",
       "      <th></th>\n",
       "      <th>time(s)</th>\n",
       "      <th>x_B_layer_0</th>\n",
       "      <th>x_B_layer_1</th>\n",
       "      <th>x_B_layer_2</th>\n",
       "      <th>x_B_layer_3</th>\n",
       "      <th>x_B_layer_4</th>\n",
       "      <th>x_B_layer_5</th>\n",
       "      <th>x_B_layer_6</th>\n",
       "      <th>x_B_layer_7</th>\n",
       "      <th>x_B_layer_8</th>\n",
       "      <th>...</th>\n",
       "      <th>x_C_layer_90</th>\n",
       "      <th>x_C_layer_91</th>\n",
       "      <th>x_C_layer_92</th>\n",
       "      <th>x_C_layer_93</th>\n",
       "      <th>x_C_layer_94</th>\n",
       "      <th>x_C_layer_95</th>\n",
       "      <th>x_C_layer_96</th>\n",
       "      <th>x_C_layer_97</th>\n",
       "      <th>x_C_layer_98</th>\n",
       "      <th>x_C_layer_99</th>\n",
       "    </tr>\n",
       "  </thead>\n",
       "  <tbody>\n",
       "    <tr>\n",
       "      <th>0</th>\n",
       "      <td>0.0</td>\n",
       "      <td>0.050000</td>\n",
       "      <td>0.050000</td>\n",
       "      <td>0.050000</td>\n",
       "      <td>0.050000</td>\n",
       "      <td>0.050000</td>\n",
       "      <td>0.050000</td>\n",
       "      <td>0.050000</td>\n",
       "      <td>0.050000</td>\n",
       "      <td>0.050000</td>\n",
       "      <td>...</td>\n",
       "      <td>0.050000</td>\n",
       "      <td>0.050000</td>\n",
       "      <td>0.050000</td>\n",
       "      <td>0.050000</td>\n",
       "      <td>0.050000</td>\n",
       "      <td>0.050000</td>\n",
       "      <td>0.050000</td>\n",
       "      <td>0.050000</td>\n",
       "      <td>0.050000</td>\n",
       "      <td>0.05</td>\n",
       "    </tr>\n",
       "    <tr>\n",
       "      <th>1</th>\n",
       "      <td>1.0</td>\n",
       "      <td>0.049889</td>\n",
       "      <td>0.051327</td>\n",
       "      <td>0.048995</td>\n",
       "      <td>0.049840</td>\n",
       "      <td>0.049949</td>\n",
       "      <td>0.050000</td>\n",
       "      <td>0.050000</td>\n",
       "      <td>0.050000</td>\n",
       "      <td>0.050000</td>\n",
       "      <td>...</td>\n",
       "      <td>0.050000</td>\n",
       "      <td>0.050000</td>\n",
       "      <td>0.050000</td>\n",
       "      <td>0.050000</td>\n",
       "      <td>0.050000</td>\n",
       "      <td>0.050000</td>\n",
       "      <td>0.050000</td>\n",
       "      <td>0.050000</td>\n",
       "      <td>0.050000</td>\n",
       "      <td>0.05</td>\n",
       "    </tr>\n",
       "    <tr>\n",
       "      <th>2</th>\n",
       "      <td>2.0</td>\n",
       "      <td>0.049898</td>\n",
       "      <td>0.052398</td>\n",
       "      <td>0.048169</td>\n",
       "      <td>0.049640</td>\n",
       "      <td>0.049897</td>\n",
       "      <td>0.049997</td>\n",
       "      <td>0.050000</td>\n",
       "      <td>0.050000</td>\n",
       "      <td>0.050000</td>\n",
       "      <td>...</td>\n",
       "      <td>0.050000</td>\n",
       "      <td>0.050000</td>\n",
       "      <td>0.050000</td>\n",
       "      <td>0.050000</td>\n",
       "      <td>0.050000</td>\n",
       "      <td>0.050000</td>\n",
       "      <td>0.050000</td>\n",
       "      <td>0.050000</td>\n",
       "      <td>0.050000</td>\n",
       "      <td>0.05</td>\n",
       "    </tr>\n",
       "    <tr>\n",
       "      <th>3</th>\n",
       "      <td>3.0</td>\n",
       "      <td>0.049995</td>\n",
       "      <td>0.053275</td>\n",
       "      <td>0.047483</td>\n",
       "      <td>0.049414</td>\n",
       "      <td>0.049842</td>\n",
       "      <td>0.049992</td>\n",
       "      <td>0.050000</td>\n",
       "      <td>0.050000</td>\n",
       "      <td>0.050000</td>\n",
       "      <td>...</td>\n",
       "      <td>0.050000</td>\n",
       "      <td>0.050000</td>\n",
       "      <td>0.050000</td>\n",
       "      <td>0.050000</td>\n",
       "      <td>0.050000</td>\n",
       "      <td>0.050000</td>\n",
       "      <td>0.050000</td>\n",
       "      <td>0.050000</td>\n",
       "      <td>0.050000</td>\n",
       "      <td>0.05</td>\n",
       "    </tr>\n",
       "    <tr>\n",
       "      <th>4</th>\n",
       "      <td>4.0</td>\n",
       "      <td>0.050156</td>\n",
       "      <td>0.054000</td>\n",
       "      <td>0.046908</td>\n",
       "      <td>0.049171</td>\n",
       "      <td>0.049782</td>\n",
       "      <td>0.049985</td>\n",
       "      <td>0.049999</td>\n",
       "      <td>0.050000</td>\n",
       "      <td>0.050000</td>\n",
       "      <td>...</td>\n",
       "      <td>0.050000</td>\n",
       "      <td>0.050000</td>\n",
       "      <td>0.050000</td>\n",
       "      <td>0.050000</td>\n",
       "      <td>0.050000</td>\n",
       "      <td>0.050000</td>\n",
       "      <td>0.050000</td>\n",
       "      <td>0.050000</td>\n",
       "      <td>0.050000</td>\n",
       "      <td>0.05</td>\n",
       "    </tr>\n",
       "    <tr>\n",
       "      <th>...</th>\n",
       "      <td>...</td>\n",
       "      <td>...</td>\n",
       "      <td>...</td>\n",
       "      <td>...</td>\n",
       "      <td>...</td>\n",
       "      <td>...</td>\n",
       "      <td>...</td>\n",
       "      <td>...</td>\n",
       "      <td>...</td>\n",
       "      <td>...</td>\n",
       "      <td>...</td>\n",
       "      <td>...</td>\n",
       "      <td>...</td>\n",
       "      <td>...</td>\n",
       "      <td>...</td>\n",
       "      <td>...</td>\n",
       "      <td>...</td>\n",
       "      <td>...</td>\n",
       "      <td>...</td>\n",
       "      <td>...</td>\n",
       "      <td>...</td>\n",
       "    </tr>\n",
       "    <tr>\n",
       "      <th>4996</th>\n",
       "      <td>4996.0</td>\n",
       "      <td>0.080990</td>\n",
       "      <td>0.079752</td>\n",
       "      <td>0.051504</td>\n",
       "      <td>0.048385</td>\n",
       "      <td>0.047780</td>\n",
       "      <td>0.047844</td>\n",
       "      <td>0.047869</td>\n",
       "      <td>0.047897</td>\n",
       "      <td>0.047928</td>\n",
       "      <td>...</td>\n",
       "      <td>0.049917</td>\n",
       "      <td>0.049927</td>\n",
       "      <td>0.049936</td>\n",
       "      <td>0.049945</td>\n",
       "      <td>0.049954</td>\n",
       "      <td>0.049963</td>\n",
       "      <td>0.049973</td>\n",
       "      <td>0.049982</td>\n",
       "      <td>0.049991</td>\n",
       "      <td>0.05</td>\n",
       "    </tr>\n",
       "    <tr>\n",
       "      <th>4997</th>\n",
       "      <td>4997.0</td>\n",
       "      <td>0.080991</td>\n",
       "      <td>0.079753</td>\n",
       "      <td>0.051504</td>\n",
       "      <td>0.048385</td>\n",
       "      <td>0.047781</td>\n",
       "      <td>0.047844</td>\n",
       "      <td>0.047869</td>\n",
       "      <td>0.047897</td>\n",
       "      <td>0.047928</td>\n",
       "      <td>...</td>\n",
       "      <td>0.049917</td>\n",
       "      <td>0.049927</td>\n",
       "      <td>0.049936</td>\n",
       "      <td>0.049945</td>\n",
       "      <td>0.049954</td>\n",
       "      <td>0.049963</td>\n",
       "      <td>0.049973</td>\n",
       "      <td>0.049982</td>\n",
       "      <td>0.049991</td>\n",
       "      <td>0.05</td>\n",
       "    </tr>\n",
       "    <tr>\n",
       "      <th>4998</th>\n",
       "      <td>4998.0</td>\n",
       "      <td>0.080991</td>\n",
       "      <td>0.079753</td>\n",
       "      <td>0.051504</td>\n",
       "      <td>0.048385</td>\n",
       "      <td>0.047781</td>\n",
       "      <td>0.047844</td>\n",
       "      <td>0.047869</td>\n",
       "      <td>0.047898</td>\n",
       "      <td>0.047928</td>\n",
       "      <td>...</td>\n",
       "      <td>0.049917</td>\n",
       "      <td>0.049927</td>\n",
       "      <td>0.049936</td>\n",
       "      <td>0.049945</td>\n",
       "      <td>0.049954</td>\n",
       "      <td>0.049963</td>\n",
       "      <td>0.049973</td>\n",
       "      <td>0.049982</td>\n",
       "      <td>0.049991</td>\n",
       "      <td>0.05</td>\n",
       "    </tr>\n",
       "    <tr>\n",
       "      <th>4999</th>\n",
       "      <td>4999.0</td>\n",
       "      <td>0.080992</td>\n",
       "      <td>0.079754</td>\n",
       "      <td>0.051504</td>\n",
       "      <td>0.048385</td>\n",
       "      <td>0.047781</td>\n",
       "      <td>0.047844</td>\n",
       "      <td>0.047870</td>\n",
       "      <td>0.047898</td>\n",
       "      <td>0.047928</td>\n",
       "      <td>...</td>\n",
       "      <td>0.049917</td>\n",
       "      <td>0.049927</td>\n",
       "      <td>0.049936</td>\n",
       "      <td>0.049945</td>\n",
       "      <td>0.049954</td>\n",
       "      <td>0.049963</td>\n",
       "      <td>0.049973</td>\n",
       "      <td>0.049982</td>\n",
       "      <td>0.049991</td>\n",
       "      <td>0.05</td>\n",
       "    </tr>\n",
       "    <tr>\n",
       "      <th>5000</th>\n",
       "      <td>5000.0</td>\n",
       "      <td>0.080992</td>\n",
       "      <td>0.079754</td>\n",
       "      <td>0.051505</td>\n",
       "      <td>0.048386</td>\n",
       "      <td>0.047781</td>\n",
       "      <td>0.047845</td>\n",
       "      <td>0.047870</td>\n",
       "      <td>0.047898</td>\n",
       "      <td>0.047929</td>\n",
       "      <td>...</td>\n",
       "      <td>0.049917</td>\n",
       "      <td>0.049927</td>\n",
       "      <td>0.049936</td>\n",
       "      <td>0.049945</td>\n",
       "      <td>0.049954</td>\n",
       "      <td>0.049963</td>\n",
       "      <td>0.049973</td>\n",
       "      <td>0.049982</td>\n",
       "      <td>0.049991</td>\n",
       "      <td>0.05</td>\n",
       "    </tr>\n",
       "  </tbody>\n",
       "</table>\n",
       "<p>5001 rows × 201 columns</p>\n",
       "</div>"
      ],
      "text/plain": [
       "      time(s)  x_B_layer_0  x_B_layer_1  x_B_layer_2  x_B_layer_3  \\\n",
       "0         0.0     0.050000     0.050000     0.050000     0.050000   \n",
       "1         1.0     0.049889     0.051327     0.048995     0.049840   \n",
       "2         2.0     0.049898     0.052398     0.048169     0.049640   \n",
       "3         3.0     0.049995     0.053275     0.047483     0.049414   \n",
       "4         4.0     0.050156     0.054000     0.046908     0.049171   \n",
       "...       ...          ...          ...          ...          ...   \n",
       "4996   4996.0     0.080990     0.079752     0.051504     0.048385   \n",
       "4997   4997.0     0.080991     0.079753     0.051504     0.048385   \n",
       "4998   4998.0     0.080991     0.079753     0.051504     0.048385   \n",
       "4999   4999.0     0.080992     0.079754     0.051504     0.048385   \n",
       "5000   5000.0     0.080992     0.079754     0.051505     0.048386   \n",
       "\n",
       "      x_B_layer_4  x_B_layer_5  x_B_layer_6  x_B_layer_7  x_B_layer_8  ...  \\\n",
       "0        0.050000     0.050000     0.050000     0.050000     0.050000  ...   \n",
       "1        0.049949     0.050000     0.050000     0.050000     0.050000  ...   \n",
       "2        0.049897     0.049997     0.050000     0.050000     0.050000  ...   \n",
       "3        0.049842     0.049992     0.050000     0.050000     0.050000  ...   \n",
       "4        0.049782     0.049985     0.049999     0.050000     0.050000  ...   \n",
       "...           ...          ...          ...          ...          ...  ...   \n",
       "4996     0.047780     0.047844     0.047869     0.047897     0.047928  ...   \n",
       "4997     0.047781     0.047844     0.047869     0.047897     0.047928  ...   \n",
       "4998     0.047781     0.047844     0.047869     0.047898     0.047928  ...   \n",
       "4999     0.047781     0.047844     0.047870     0.047898     0.047928  ...   \n",
       "5000     0.047781     0.047845     0.047870     0.047898     0.047929  ...   \n",
       "\n",
       "      x_C_layer_90  x_C_layer_91  x_C_layer_92  x_C_layer_93  x_C_layer_94  \\\n",
       "0         0.050000      0.050000      0.050000      0.050000      0.050000   \n",
       "1         0.050000      0.050000      0.050000      0.050000      0.050000   \n",
       "2         0.050000      0.050000      0.050000      0.050000      0.050000   \n",
       "3         0.050000      0.050000      0.050000      0.050000      0.050000   \n",
       "4         0.050000      0.050000      0.050000      0.050000      0.050000   \n",
       "...            ...           ...           ...           ...           ...   \n",
       "4996      0.049917      0.049927      0.049936      0.049945      0.049954   \n",
       "4997      0.049917      0.049927      0.049936      0.049945      0.049954   \n",
       "4998      0.049917      0.049927      0.049936      0.049945      0.049954   \n",
       "4999      0.049917      0.049927      0.049936      0.049945      0.049954   \n",
       "5000      0.049917      0.049927      0.049936      0.049945      0.049954   \n",
       "\n",
       "      x_C_layer_95  x_C_layer_96  x_C_layer_97  x_C_layer_98  x_C_layer_99  \n",
       "0         0.050000      0.050000      0.050000      0.050000          0.05  \n",
       "1         0.050000      0.050000      0.050000      0.050000          0.05  \n",
       "2         0.050000      0.050000      0.050000      0.050000          0.05  \n",
       "3         0.050000      0.050000      0.050000      0.050000          0.05  \n",
       "4         0.050000      0.050000      0.050000      0.050000          0.05  \n",
       "...            ...           ...           ...           ...           ...  \n",
       "4996      0.049963      0.049973      0.049982      0.049991          0.05  \n",
       "4997      0.049963      0.049973      0.049982      0.049991          0.05  \n",
       "4998      0.049963      0.049973      0.049982      0.049991          0.05  \n",
       "4999      0.049963      0.049973      0.049982      0.049991          0.05  \n",
       "5000      0.049963      0.049973      0.049982      0.049991          0.05  \n",
       "\n",
       "[5001 rows x 201 columns]"
      ]
     },
     "execution_count": 11,
     "metadata": {},
     "output_type": "execute_result"
    }
   ],
   "source": [
    "# take a look at the data\n",
    "system.calc_data"
   ]
  },
  {
   "cell_type": "code",
   "execution_count": 12,
   "id": "d1f88d58-3a2a-4e80-ac2e-5ee114f08320",
   "metadata": {
    "tags": []
   },
   "outputs": [
    {
     "data": {
      "text/plain": [
       "<matplotlib.collections.PathCollection at 0x7fa3a06f2450>"
      ]
     },
     "execution_count": 12,
     "metadata": {},
     "output_type": "execute_result"
    },
    {
     "data": {
      "image/png": "[encoded data removed]",
      "text/plain": [
       "<Figure size 432x288 with 1 Axes>"
      ]
     },
     "metadata": {
      "needs_background": "light"
     },
     "output_type": "display_data"
    }
   ],
   "source": [
    "plt.scatter(system.calc_data['time(s)'],system.calc_data['x_B_layer_0'])"
   ]
  },
  {
   "cell_type": "code",
   "execution_count": 14,
   "id": "eeee591e-c3f9-4008-9780-7c833ba9e990",
   "metadata": {
    "tags": []
   },
   "outputs": [
    {
     "data": {
      "text/plain": [
       "<matplotlib.legend.Legend at 0x7fa3b0104990>"
      ]
     },
     "execution_count": 14,
     "metadata": {},
     "output_type": "execute_result"
    },
    {
     "data": {
      "image/png": "[encoded data removed]",
      "text/plain": [
       "<Figure size 432x288 with 1 Axes>"
      ]
     },
     "metadata": {
      "needs_background": "light"
     },
     "output_type": "display_data"
    }
   ],
   "source": [
    "for i in [0,10,100,1000,2000,5000]:\n",
    "    X_of_layers = np.hstack([system.X_layers_B_vs_t[i][::-1],system.X_layers_B_vs_t[i]])\n",
    "    layers = np.arange(nd)+0.5\n",
    "    \n",
    "    n_layers = np.hstack([-layers[::-1],layers])\n",
    "    plt.plot(n_layers,X_of_layers,'-o',\n",
    "             label=f't={np.round(system.t[i]/60,3)} min')\n",
    "    \n",
    "plt.xlim(-10,10)\n",
    "plt.legend()\n"
   ]
  },
  {
   "cell_type": "code",
   "execution_count": 30,
   "id": "02a832ed-839f-4bb0-9b08-1b38ebbf0eb0",
   "metadata": {},
   "outputs": [
    {
     "data": {
      "text/plain": [
       "<matplotlib.legend.Legend at 0x7fa381984a90>"
      ]
     },
     "execution_count": 30,
     "metadata": {},
     "output_type": "execute_result"
    },
    {
     "data": {
      "image/png": "[encoded data removed]",
      "text/plain": [
       "<Figure size 432x288 with 1 Axes>"
      ]
     },
     "metadata": {
      "needs_background": "light"
     },
     "output_type": "display_data"
    }
   ],
   "source": [
    "for i in [0,10,100,1000,2000,5000]:\n",
    "    X_of_layers = np.hstack([system.X_layers_C_vs_t[i][::-1],system.X_layers_C_vs_t[i]])\n",
    "    layers = np.arange(nd)+0.5\n",
    "    \n",
    "    n_layers = np.hstack([-layers[::-1],layers])\n",
    "    plt.plot(n_layers,X_of_layers,'-o',\n",
    "             label=f't={np.round(system.t[i]/60,3)} min')\n",
    "    \n",
    "plt.xlim(-10,10)\n",
    "plt.legend()\n"
   ]
  },
  {
   "cell_type": "code",
   "execution_count": null,
   "id": "b13ba55c-b7b7-424a-ab8b-4f397e2b7f75",
   "metadata": {},
   "outputs": [],
   "source": []
  },
  {
   "cell_type": "code",
   "execution_count": 21,
   "id": "590abfd1-38d2-4bbf-8839-b57474f4c7dc",
   "metadata": {
    "tags": []
   },
   "outputs": [],
   "source": [
    "\n",
    "b = 2.5e-10 #m\n",
    "a = np.sqrt(2)*b\n",
    "d = a/np.sqrt(3)\n",
    "d = b\n",
    "nd = 100\n",
    "\n",
    "# segregation parameters\n",
    "T = 873 #K\n",
    "\n",
    "# C: Co\n",
    "\n",
    "c0_C = 0.05\n",
    "\n",
    "D0_C = 5e-6 #m^2/s\n",
    "Q_C = 241 #kJ/mol\n",
    "\n",
    "E_seg_list_C = np.zeros(nd)\n",
    "E_seg_list_C[0] = data_Ni['Co'][0]\n",
    "E_seg_list_C[1] = data_Ni['Co'][1]\n",
    "E_seg_list_C[2] = data_Ni['Co'][2]\n",
    "E_seg_list_C[3] = data_Ni['Co'][3]\n",
    "E_seg_list_C[4] = data_Ni['Co'][4]\n",
    "\n",
    "\n",
    "Q_list_C = np.random.normal(loc=Q_C,scale=5,size=nd)\n",
    "\n",
    "# B: Cr\n",
    "c0_B = 0.0\n",
    "\n",
    "D0_B = 0#5e-4C#m^2/s\n",
    "Q_B = 285 #kJ/mol\n",
    "\n",
    "E_seg_list_B = np.zeros(nd)\n",
    "\n",
    "Q_list_B = np.random.normal(loc=Q_B,scale=5,size=nd)\n",
    "\n",
    "\n",
    "# time\n",
    "dt = 1  # time step size /s\n",
    "nt = 5000  # number of time steps\n",
    "\n",
    "\n",
    "# solute-solute interaction energies\n",
    "J2eV = 8.617333262145e-5/1.380649e-23\n",
    "NA = constants.Avogadro\n",
    "\n",
    "# data from https://doi.org/10.1016/j.calphad.2015.12.007\n",
    "# Cr in Ni # FCC\n",
    "#L_AB = (+8030-12.8801*T) * J2eV /NA\n",
    "\n",
    "# Co in Ni # FCC\n",
    "L_AC = (-800+1.2629*T) * J2eV /NA\n",
    "\n",
    "# Co-Cr in Ni # FCC\n",
    "L_ABC = 0#(-40710+13.5334*T) * J2eV /NA\n",
    "\n",
    "# Co-Cr\n",
    "L_BC = 0#(+1500-9.592*T) * J2eV/NA\n",
    "\n",
    "system_AC = ternary_seg_profile(D0_C,Q_C, # 1d array, same length as nd\n",
    "           E_seg_list_C,# 1d array, same length as nd\n",
    "           D0_B,Q_B, # 1d array, same length as nd\n",
    "           E_seg_list_B,# 1d array, same length as nd\n",
    "           c0_C,c0_B,\n",
    "           L_AB,L_AC,L_ABC,L_BC,\n",
    "           T,\n",
    "           d,\n",
    "           nd, \n",
    "           dt,\n",
    "           nt)"
   ]
  },
  {
   "cell_type": "code",
   "execution_count": null,
   "id": "57c1dd28-dacf-4cbb-9479-bad648c90916",
   "metadata": {
    "tags": []
   },
   "outputs": [],
   "source": []
  },
  {
   "cell_type": "code",
   "execution_count": 22,
   "id": "2924ad0e-ebb9-47ad-abb7-6b7aea32812e",
   "metadata": {
    "tags": []
   },
   "outputs": [
    {
     "name": "stderr",
     "output_type": "stream",
     "text": [
      "/Users/Dongsheng/project/suzuki_kinetics/models/ternary_w_interactions.py:270: PerformanceWarning: DataFrame is highly fragmented.  This is usually the result of calling `frame.insert` many times, which has poor performance.  Consider joining all columns at once using pd.concat(axis=1) instead.  To get a de-fragmented frame, use `newframe = frame.copy()`\n",
      "  self.calc_data[f'x_B_layer_{i}'] = self.X_layers_B_vs_t.T[i]\n",
      "/Users/Dongsheng/project/suzuki_kinetics/models/ternary_w_interactions.py:273: PerformanceWarning: DataFrame is highly fragmented.  This is usually the result of calling `frame.insert` many times, which has poor performance.  Consider joining all columns at once using pd.concat(axis=1) instead.  To get a de-fragmented frame, use `newframe = frame.copy()`\n",
      "  self.calc_data[f'x_C_layer_{i}'] = self.X_layers_C_vs_t.T[i]\n"
     ]
    }
   ],
   "source": [
    "system_AC.tabulate_calc_res()"
   ]
  },
  {
   "cell_type": "code",
   "execution_count": 23,
   "id": "2c9b2258-2957-42cf-972e-513a687cafd9",
   "metadata": {
    "tags": []
   },
   "outputs": [
    {
     "data": {
      "text/plain": [
       "<matplotlib.collections.PathCollection at 0x7fa3825c2f10>"
      ]
     },
     "execution_count": 23,
     "metadata": {},
     "output_type": "execute_result"
    },
    {
     "data": {
      "image/png": "[encoded data removed]",
      "text/plain": [
       "<Figure size 432x288 with 1 Axes>"
      ]
     },
     "metadata": {
      "needs_background": "light"
     },
     "output_type": "display_data"
    }
   ],
   "source": [
    "plt.scatter(system_AC.calc_data['time(s)'],system_AC.calc_data['x_C_layer_0'])\n",
    "plt.scatter(system.calc_data['time(s)'],system.calc_data['x_C_layer_0'])\n"
   ]
  },
  {
   "cell_type": "code",
   "execution_count": null,
   "id": "91a6374d-25b9-499d-a05a-a222bbdc0a0c",
   "metadata": {},
   "outputs": [],
   "source": []
  },
  {
   "cell_type": "code",
   "execution_count": 24,
   "id": "8c83dbd0-72e2-42a0-b76d-5f5720f77f1d",
   "metadata": {
    "tags": []
   },
   "outputs": [],
   "source": [
    "\n",
    "b = 2.5e-10 #m\n",
    "a = np.sqrt(2)*b\n",
    "d = a/np.sqrt(3)\n",
    "d = b\n",
    "nd = 100\n",
    "a\n",
    "# segregation parameters\n",
    "T = 873 #K\n",
    "\n",
    "# C: Co\n",
    "\n",
    "c0_C = 0.05\n",
    "\n",
    "D0_C = 5e-6 #m^2/s\n",
    "Q_C = 241 #kJ/mol\n",
    "\n",
    "E_seg_list_C = np.zeros(nd)\n",
    "E_seg_list_C[0] = data_Ni['Co'][0]\n",
    "E_seg_list_C[1] = data_Ni['Co'][1]\n",
    "E_seg_list_C[2] = data_Ni['Co'][2]\n",
    "E_seg_list_C[3] = data_Ni['Co'][3]\n",
    "E_seg_list_C[4] = data_Ni['Co'][4]\n",
    "\n",
    "\n",
    "Q_list_C = np.random.normal(loc=Q_C,scale=5,size=nd)\n",
    "\n",
    "# B: Cr\n",
    "c0_B = 0.0\n",
    "\n",
    "D0_B = 0#5e-4 #m^2/s\n",
    "Q_B = 285 #kJ/mol\n",
    "\n",
    "E_seg_list_B = np.zeros(nd)\n",
    "\n",
    "Q_list_B = np.random.normal(loc=Q_B,scale=5,size=nd)\n",
    "\n",
    "\n",
    "# time\n",
    "dt = 1  # time step size /s\n",
    "nt = 5000  # number of time steps\n",
    "\n",
    "\n",
    "# solute-solute interaction energies\n",
    "J2eV = 8.617333262145e-5/1.380649e-23\n",
    "NA = constants.Avogadro\n",
    "\n",
    "# data from https://doi.org/10.1016/j.calphad.2015.12.007\n",
    "# Cr in Ni # FCC\n",
    "#L_AB = (+8030-12.8801*T) * J2eV /NA\n",
    "\n",
    "# Co in Ni # FCC\n",
    "L_AC = 0#(-800+1.2629*T) * J2eV /NA\n",
    "\n",
    "# Co-Cr in Ni # FCC\n",
    "L_ABC = 0#(-40710+13.5334*T) * J2eV /NA\n",
    "\n",
    "# Co-Cr\n",
    "L_BC = 0#(+1500-9.592*T) * J2eV/NA\n",
    "\n",
    "# just the interaction energy \n",
    "system_AC_0 = ternary_seg_profile(D0_C,Q_C, # 1d array, same length as nd\n",
    "           E_seg_list_C,# 1d array, same length as nd\n",
    "           D0_B,Q_B, # 1d array, same length as nd\n",
    "           E_seg_list_B,# 1d array, same length as nd\n",
    "           c0_C,c0_B,\n",
    "           L_AB,L_AC,L_ABC,L_BC,\n",
    "           T,\n",
    "           d,\n",
    "           nd, \n",
    "           dt,\n",
    "           nt)"
   ]
  },
  {
   "cell_type": "code",
   "execution_count": 26,
   "id": "738f911b-0ae6-40c6-b5ad-ac6418958c6f",
   "metadata": {
    "tags": []
   },
   "outputs": [],
   "source": [
    "system_AC_0.tabulate_calc_res()"
   ]
  },
  {
   "cell_type": "code",
   "execution_count": 28,
   "id": "1dd4adcb-07e4-4056-a586-91cd57afb9cb",
   "metadata": {
    "tags": []
   },
   "outputs": [
    {
     "data": {
      "text/plain": [
       "[<matplotlib.lines.Line2D at 0x7fa3818d72d0>]"
      ]
     },
     "execution_count": 28,
     "metadata": {},
     "output_type": "execute_result"
    },
    {
     "data": {
      "image/png": "[encoded data removed]",
      "text/plain": [
       "<Figure size 432x288 with 1 Axes>"
      ]
     },
     "metadata": {
      "needs_background": "light"
     },
     "output_type": "display_data"
    }
   ],
   "source": [
    "plt.plot(system_AC_0.calc_data['time(s)'],system_AC_0.calc_data['x_C_layer_0'])\n",
    "plt.plot(system_AC.calc_data['time(s)'],system_AC.calc_data['x_C_layer_0'])\n",
    "plt.plot(system.calc_data['time(s)'],system.calc_data['x_C_layer_0'])\n"
   ]
  },
  {
   "cell_type": "code",
   "execution_count": null,
   "id": "0e8cdec1-b75e-4b1f-b31b-b3fcd7692e7f",
   "metadata": {},
   "outputs": [],
   "source": []
  },
  {
   "cell_type": "code",
   "execution_count": null,
   "id": "0493083d-056d-44c4-bcb3-c6073d80f808",
   "metadata": {},
   "outputs": [],
   "source": []
  },
  {
   "cell_type": "code",
   "execution_count": 29,
   "id": "94d0460d-8771-4e07-bbc4-1b236dfecd97",
   "metadata": {
    "tags": []
   },
   "outputs": [
    {
     "data": {
      "text/plain": [
       "[<matplotlib.lines.Line2D at 0x7fa381cae0d0>]"
      ]
     },
     "execution_count": 29,
     "metadata": {},
     "output_type": "execute_result"
    },
    {
     "data": {
      "image/png": "[encoded data removed]",
      "text/plain": [
       "<Figure size 432x288 with 1 Axes>"
      ]
     },
     "metadata": {
      "needs_background": "light"
     },
     "output_type": "display_data"
    }
   ],
   "source": [
    "\n",
    "plt.plot(system_AC.calc_data['time(s)'],system_AC.calc_data['x_C_layer_0']-system_AC_0.calc_data['x_C_layer_0'])"
   ]
  },
  {
   "cell_type": "code",
   "execution_count": null,
   "id": "72948313-d367-4be8-8664-4e9f5d8c754d",
   "metadata": {},
   "outputs": [],
   "source": []
  }
 ],
 "metadata": {
  "kernelspec": {
   "display_name": "Python 3 (ipykernel)",
   "language": "python",
   "name": "python3"
  },
  "language_info": {
   "codemirror_mode": {
    "name": "ipython",
    "version": 3
   },
   "file_extension": ".py",
   "mimetype": "text/x-python",
   "name": "python",
   "nbconvert_exporter": "python",
   "pygments_lexer": "ipython3",
   "version": "3.7.12"
  }
 },
 "nbformat": 4,
 "nbformat_minor": 5
}
